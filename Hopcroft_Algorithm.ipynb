{
  "nbformat": 4,
  "nbformat_minor": 0,
  "metadata": {
    "colab": {
      "name": "Hopcroft Algorithm.ipynb",
      "provenance": [],
      "collapsed_sections": []
    },
    "kernelspec": {
      "name": "python3",
      "display_name": "Python 3"
    },
    "language_info": {
      "name": "python"
    }
  },
  "cells": [
    {
      "cell_type": "markdown",
      "metadata": {
        "id": "tFyJZOYlUMH0"
      },
      "source": [
        "<h2>Редукция конечного акцептора</h2>\n",
        "\n",
        "Минимальный автомат — это автомат, имеющий наименьшее возможное количество состояний и реализующий заданную функцию выходов. Задача минимизации автомата сводится к поиску его минимальной формы.\n",
        "<br><br>\n",
        "\n",
        "Пусть А - конечный акцептор:<br>\n",
        "A = $(\\sum, S, s_0 \\in S, F, \\sigma:S \\times \\sum \\to S)$\n",
        "<br>\n",
        "<br>Если в ДКА существуют два эквивалентных состояния, то при их объединении мы получим эквивалентный ДКА, так как распознаваемый язык не изменится. Основная идея минимизации состоит в разбиении множества состояний на классы эквивалентности, полученные классы и будут состояниями минимизированного ДКА.\n",
        "\n",
        "Далее показан псевдокод программы, которая реализовывает алгоритм Хопкрофта:"
      ]
    },
    {
      "cell_type": "code",
      "metadata": {
        "id": "bViFEDzbX2lC"
      },
      "source": [
        "function findEquivalenceClasses(Q, F, δ): vector \n",
        "   P←{F, Q∖F}\n",
        "   S←∅\n",
        "   for c∈Σ\n",
        "     push ⟨F, c⟩, ⟨Q∖F, c⟩ into S\n",
        "   while S≠∅\n",
        "     ⟨C, a⟩ ← pop from S\n",
        "     Inverse←{r | r∈Q, δ(r,a)∈C}\n",
        "     T′←{R | R∈P, R∩Inverse≠∅} // находим классы, из состояний которых есть ребро в состояния сплиттера \n",
        "     for R in T′ // перебираем только классы входящие в T′\n",
        "       R1,R2← split(R, C, a)\n",
        "       if R1≠∅ and R2≠∅\n",
        "        replace R in P with R1 and R2\n",
        "        if ⟨R, c⟩ in S\n",
        "          remove ⟨R,c⟩ from S\n",
        "          push ⟨R1,c⟩ into S\n",
        "          push ⟨R2,c⟩ into S\n",
        "        else\n",
        "           if |P[R1]|⩽|P[R2]|\n",
        "             push ⟨R1,c⟩ into S\n",
        "           else\n",
        "             push ⟨R2,c⟩ into S\n",
        "   return P"
      ],
      "execution_count": null,
      "outputs": []
    },
    {
      "cell_type": "markdown",
      "metadata": {
        "id": "9DtAZ0QcYEM3"
      },
      "source": [
        "Код программы, которая с помощью алгоритма Хопкрофта проводит редукцию конечного акцептора:"
      ]
    },
    {
      "cell_type": "code",
      "metadata": {
        "id": "g3WT9AIhA2Hj"
      },
      "source": [
        "from typing import Dict\n",
        "\n",
        "def hopcroft_minimization(sigma =None, \n",
        "                          instances = None, \n",
        "                          s0 = None, \n",
        "                          final_instances = None, \n",
        "                          omega:Dict[object, object]=None) -> set:\n",
        "    \n",
        "    if not isinstance(sigma, set):\n",
        "        raise TypeError('Incorrect type for Sigma. Use set().')\n",
        "            \n",
        "    if not isinstance(instances, set):\n",
        "        raise TypeError('Incorrect type for Instances. Use set().')\n",
        "            \n",
        "    if s0 not in instances:\n",
        "        raise ValueError('Incorrect Default Instance. You have to use the one from the Instance Set.')\n",
        "            \n",
        "    if not isinstance(final_instances, set):\n",
        "        raise TypeError('Incorrect type for Final Instances. Use set().')\n",
        "            \n",
        "    for instance in final_instances:\n",
        "        if instance not in instances:\n",
        "            raise ValueError(f'{instance} from final_instances is not in instances.')\n",
        "            \n",
        "    if not isinstance(omega, dict):\n",
        "        raise TypeError('Incorrect type for Omega.')\n",
        "            \n",
        "    s0_in_omega = False\n",
        "            \n",
        "    for key, value in omega.items():\n",
        "            \n",
        "        if not isinstance(key, tuple):\n",
        "            raise TypeError(f'{key} (type {type(key)}) is not of type tuple.')\n",
        "                \n",
        "        if len(key) != 2:\n",
        "            raise TypeError(f'Keys in omega should be tuple with size 2, not {len(key)} ({key}).')\n",
        "                \n",
        "        s, e = key\n",
        "            \n",
        "        if s not in instances:\n",
        "            raise ValueError(f's in {key} is not in instances.')\n",
        "                \n",
        "        if e not in sigma:\n",
        "            raise ValueError(f'e in {key} is not in sigma.')\n",
        "                \n",
        "        if value not in instances:\n",
        "            raise ValueError(f'{value} is not in sigma.')\n",
        "                \n",
        "        s0_in_omega = (s == s0) or s0_in_omega\n",
        "\n",
        "    if not s0_in_omega:\n",
        "        raise ValueError('s0 is not available in omega.')\n",
        "\n",
        "    p = [final_instances, instances.difference(final_instances)]\n",
        "\n",
        "    w = [final_instances, instances.difference(final_instances)]\n",
        "\n",
        "    while len(w) != 0:\n",
        "        a = w.pop()\n",
        "\n",
        "        for c in sigma:\n",
        "            x = {state for state in instances if omega[(state, c)] in a}\n",
        "\n",
        "            for y in p:\n",
        "\n",
        "                y_diff_x = y.difference(x)\n",
        "\n",
        "                y_intersect_x = y.intersection(x)\n",
        "\n",
        "                if len(y_diff_x) != 0 and len(y_intersect_x) != 0:\n",
        "\n",
        "                    p.remove(y)\n",
        "                    p.extend([y_diff_x, y_intersect_x])\n",
        "\n",
        "                    if y in w:\n",
        "                        w.remove(y)\n",
        "                        w.extend([y_diff_x, y_intersect_x])\n",
        "                    else:\n",
        "                        if len(y_intersect_x) <= len(y_diff_x):\n",
        "                            w.append(y_intersect_x)\n",
        "                        else:\n",
        "                            w.append(y_diff_x)\n",
        "\n",
        "    return p"
      ],
      "execution_count": 6,
      "outputs": []
    }
  ]
}
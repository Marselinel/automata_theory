{
  "nbformat": 4,
  "nbformat_minor": 0,
  "metadata": {
    "colab": {
      "name": "noughts_and_crosses.ipynb",
      "provenance": [],
      "collapsed_sections": []
    },
    "kernelspec": {
      "name": "python3",
      "display_name": "Python 3"
    }
  },
  "cells": [
    {
      "cell_type": "markdown",
      "metadata": {
        "id": "Vjto4tokDsVS"
      },
      "source": [
        "### Программная реализация игры \"крестики-нолики\" как автомата\r\n",
        "\r\n",
        "Программа разработана по принципу автомата и имеет\r\n",
        "\r\n",
        "\r\n",
        "*   Алфавит\r\n",
        "\r\n"
      ]
    },
    {
      "cell_type": "code",
      "metadata": {
        "id": "DpseULHoqL6i"
      },
      "source": [
        "alphabet = ['-', 'X', 'O']"
      ],
      "execution_count": null,
      "outputs": []
    },
    {
      "cell_type": "markdown",
      "metadata": {
        "id": "PMUTcxMfqYzR"
      },
      "source": [
        "\r\n",
        "\r\n",
        "*   Множество всех состояний\r\n",
        "\r\n"
      ]
    },
    {
      "cell_type": "code",
      "metadata": {
        "id": "QWrVR8NzqZVb"
      },
      "source": [
        "def board_checker():\r\n",
        "    if board[0] == board[1] == board[2] != alphabet[0] \\\r\n",
        "       or board[3] == board[4] == board[5] != alphabet[0] \\\r\n",
        "       or board[6] == board[7] == board[8] != alphabet[0] \\\r\n",
        "       or board[0] == board[3] == board[6] != alphabet[0] \\\r\n",
        "       or board[1] == board[4] == board[7] != alphabet[0] \\\r\n",
        "       or board[2] == board[5] == board[8] != alphabet[0] \\\r\n",
        "       or board[0] == board[4] == board[8] != alphabet[0] \\\r\n",
        "       or board[2] == board[4] == board[6] != alphabet[0] :\r\n",
        "        print(\"Congratulations!\", player, \"won!\")\r\n",
        "        input()\r\n",
        "        return 1\r\n",
        "    for x in board:\r\n",
        "        if x == alphabet[0]:\r\n",
        "            return 0\r\n",
        "    print(\"Draw\")\r\n",
        "    input()\r\n",
        "    return 2"
      ],
      "execution_count": null,
      "outputs": []
    },
    {
      "cell_type": "markdown",
      "metadata": {
        "id": "8ohwsBOwqlYH"
      },
      "source": [
        "\r\n",
        "\r\n",
        "*   Начальное состояние\r\n",
        "\r\n"
      ]
    },
    {
      "cell_type": "code",
      "metadata": {
        "id": "cKjgKU-Eql1Q"
      },
      "source": [
        "board = [alphabet[0], alphabet[0], alphabet[0], alphabet[0], \\\r\n",
        "alphabet[0], alphabet[0], alphabet[0], alphabet[0], alphabet[0]]"
      ],
      "execution_count": null,
      "outputs": []
    },
    {
      "cell_type": "markdown",
      "metadata": {
        "id": "K3JQ8L7ZrLyZ"
      },
      "source": [
        "\r\n",
        "\r\n",
        "*   Множество финальных состояний\r\n",
        "\r\n",
        "    Так как множество финальных состояний является подмножеством множества всех состояний, всё, что не помечено как комментарий, является множеством финальных состояний\r\n",
        "\r\n"
      ]
    },
    {
      "cell_type": "code",
      "metadata": {
        "id": "7nOVse58rMkY"
      },
      "source": [
        "def board_checker():\r\n",
        "    if board[0] == board[1] == board[2] != alphabet[0] \\\r\n",
        "       or board[3] == board[4] == board[5] != alphabet[0] \\\r\n",
        "       or board[6] == board[7] == board[8] != alphabet[0] \\\r\n",
        "       or board[0] == board[3] == board[6] != alphabet[0] \\\r\n",
        "       or board[1] == board[4] == board[7] != alphabet[0] \\\r\n",
        "       or board[2] == board[5] == board[8] != alphabet[0] \\\r\n",
        "       or board[0] == board[4] == board[8] != alphabet[0] \\\r\n",
        "       or board[2] == board[4] == board[6] != alphabet[0] :\r\n",
        "        print(\"Congratulations!\", player, \"won!\")\r\n",
        "        input()\r\n",
        "        return 1\r\n",
        "    \"\"\"\r\n",
        "    for x in board:\r\n",
        "        if x == alphabet[0]:\r\n",
        "            return 0\r\n",
        "    \"\"\"\r\n",
        "    print(\"Draw\")\r\n",
        "    input()\r\n",
        "    return 2"
      ],
      "execution_count": null,
      "outputs": []
    },
    {
      "cell_type": "markdown",
      "metadata": {
        "id": "4aGqgKcsq2D3"
      },
      "source": [
        "\r\n",
        "\r\n",
        "*   Функция перехода в новое состояние\r\n",
        "\r\n"
      ]
    },
    {
      "cell_type": "code",
      "metadata": {
        "id": "mvsHetmWq2gD"
      },
      "source": [
        "def grab(coordinate):\r\n",
        "    if board[coordinate - 1] != alphabet[0]:\r\n",
        "        print(\"You can't place\", player, \"here\")\r\n",
        "        return 0\r\n",
        "    else:\r\n",
        "        board[coordinate - 1] = player\r\n",
        "        return board"
      ],
      "execution_count": null,
      "outputs": []
    },
    {
      "cell_type": "markdown",
      "metadata": {
        "id": "YOIwiS_OsLId"
      },
      "source": [
        "Проверка автоматом, чей сейчас ход"
      ]
    },
    {
      "cell_type": "code",
      "metadata": {
        "id": "EZeZUjl_sLq3"
      },
      "source": [
        "def player_switch(turn):\r\n",
        "    if turn % 2 > 0:\r\n",
        "        player = 'X'\r\n",
        "        return player\r\n",
        "    else:\r\n",
        "        player = 'O'\r\n",
        "        return player"
      ],
      "execution_count": null,
      "outputs": []
    },
    {
      "cell_type": "markdown",
      "metadata": {
        "id": "51c5hTPKsMHo"
      },
      "source": [
        "Вывод игрового поля на экран"
      ]
    },
    {
      "cell_type": "code",
      "metadata": {
        "id": "sFx7N86psMhf"
      },
      "source": [
        "def table_show():\r\n",
        "    print(\"\")\r\n",
        "    print(board[0], board[1], board[2])\r\n",
        "    print(board[3], board[4], board[5])\r\n",
        "    print(board[6], board[7], board[8])\r\n",
        "    print(\"\")"
      ],
      "execution_count": null,
      "outputs": []
    },
    {
      "cell_type": "markdown",
      "metadata": {
        "id": "6626HgP1sM1T"
      },
      "source": [
        "Непосредственная реализация игры через указанные выше элементы"
      ]
    },
    {
      "cell_type": "code",
      "metadata": {
        "id": "6hLwNEhvpJ86"
      },
      "source": [
        "turn = 1\r\n",
        "while board_checker() == 0:\r\n",
        "    player = player_switch(turn)\r\n",
        "    print(\"It's\", player, \"'s turn!\")\r\n",
        "    coordinate = input(\"Enter the number of a cell\\n\")\r\n",
        "    coordinate = int(coordinate)\r\n",
        "    state = grab(coordinate)\r\n",
        "    while state == 0:\r\n",
        "        coordinate = input(\"Enter the number of a cell\\n\")\r\n",
        "        coordinate = int(coordinate)\r\n",
        "        state = grab(coordinate)\r\n",
        "    board[coordinate - 1] = player\r\n",
        "    turn += 1\r\n",
        "    table_show()\r\n"
      ],
      "execution_count": null,
      "outputs": []
    },
    {
      "cell_type": "markdown",
      "metadata": {
        "id": "UPHiRRpzusnM"
      },
      "source": [
        "Код полностью:"
      ]
    },
    {
      "cell_type": "code",
      "metadata": {
        "id": "e5qowj1husQm"
      },
      "source": [
        "alphabet = ['-', 'X', 'O']\r\n",
        "board = [alphabet[0], alphabet[0], alphabet[0], alphabet[0], \\\r\n",
        "alphabet[0], alphabet[0], alphabet[0], alphabet[0], alphabet[0]]\r\n",
        "def grab(coordinate):\r\n",
        "    if board[coordinate - 1] != alphabet[0]:\r\n",
        "        print(\"You can't place\", player, \"here\")\r\n",
        "        return 0\r\n",
        "    else:\r\n",
        "        board[coordinate - 1] = player\r\n",
        "        return board\r\n",
        "    \r\n",
        "def board_checker():\r\n",
        "    if board[0] == board[1] == board[2] != alphabet[0] \\\r\n",
        "       or board[3] == board[4] == board[5] != alphabet[0] \\\r\n",
        "       or board[6] == board[7] == board[8] != alphabet[0] \\\r\n",
        "       or board[0] == board[3] == board[6] != alphabet[0] \\\r\n",
        "       or board[1] == board[4] == board[7] != alphabet[0] \\\r\n",
        "       or board[2] == board[5] == board[8] != alphabet[0] \\\r\n",
        "       or board[0] == board[4] == board[8] != alphabet[0] \\\r\n",
        "       or board[2] == board[4] == board[6] != alphabet[0] :\r\n",
        "        print(\"Congratulations!\", player, \"won!\")\r\n",
        "        input()\r\n",
        "        return 1\r\n",
        "    for x in board:\r\n",
        "        if x == alphabet[0]:\r\n",
        "            return 0\r\n",
        "    print(\"Draw\")\r\n",
        "    input()\r\n",
        "    return 2\r\n",
        "        \r\n",
        "def player_switch(turn):\r\n",
        "    if turn % 2 > 0:\r\n",
        "        player = 'X'\r\n",
        "        return player\r\n",
        "    else:\r\n",
        "        player = 'O'\r\n",
        "        return player\r\n",
        "def table_show():\r\n",
        "    print(\"\")\r\n",
        "    print(board[0], board[1], board[2])\r\n",
        "    print(board[3], board[4], board[5])\r\n",
        "    print(board[6], board[7], board[8])\r\n",
        "    print(\"\")\r\n",
        "\r\n",
        "turn = 1\r\n",
        "while board_checker() == 0:\r\n",
        "    player = player_switch(turn)\r\n",
        "    print(\"It's\", player, \"'s turn!\")\r\n",
        "    coordinate = input(\"Enter the number of a cell\\n\")\r\n",
        "    coordinate = int(coordinate)\r\n",
        "    state = grab(coordinate)\r\n",
        "    while state == 0:\r\n",
        "        coordinate = input(\"Enter the number of a cell\\n\")\r\n",
        "        coordinate = int(coordinate)\r\n",
        "        state = grab(coordinate)\r\n",
        "    board[coordinate - 1] = player\r\n",
        "    turn += 1\r\n",
        "    table_show()\r\n"
      ],
      "execution_count": null,
      "outputs": []
    }
  ]
}